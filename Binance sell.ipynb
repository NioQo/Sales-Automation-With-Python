{
 "cells": [
  {
   "cell_type": "code",
   "execution_count": 16,
   "id": "1fd03a94-346b-43c0-83ac-3d88e9834b0c",
   "metadata": {},
   "outputs": [],
   "source": [
    "import pandas as pd"
   ]
  },
  {
   "cell_type": "code",
   "execution_count": 17,
   "id": "aa67ed0f-ac57-47a7-8375-cec3d0c73882",
   "metadata": {},
   "outputs": [],
   "source": [
    "ruta = 'D:\\\\Users\\\\OneDrive\\\\Escritorio\\\\DA & BA\\\\Work\\\\Tisagar\\\\Binance\\\\venta.csv'"
   ]
  },
  {
   "cell_type": "code",
   "execution_count": 18,
   "id": "a98644eb-b78d-40c1-b583-b5ad017e3df1",
   "metadata": {},
   "outputs": [],
   "source": [
    "df = pd.read_csv(ruta)"
   ]
  },
  {
   "cell_type": "code",
   "execution_count": 19,
   "id": "95a174f4-0d16-4392-827c-95a2480e1a7b",
   "metadata": {},
   "outputs": [],
   "source": [
    "columns_to_drop = [\n",
    "    'Order Type', 'Fiat Type', 'Exchange rate', 'Maker Fee', \n",
    "    'Maker Fee Rate', 'Taker Fee', 'Taker Fee Rate', \n",
    "    'Couterparty', 'Status'\n",
    "]"
   ]
  },
  {
   "cell_type": "code",
   "execution_count": 20,
   "id": "89ea95c1-6915-4ff8-88a8-ee6f2fa153c9",
   "metadata": {},
   "outputs": [],
   "source": [
    "df.drop(columns=columns_to_drop, inplace=True)"
   ]
  },
  {
   "cell_type": "code",
   "execution_count": 21,
   "id": "ecea0c65-2884-429c-b452-f8586aa9cd7c",
   "metadata": {},
   "outputs": [],
   "source": [
    "df['Created Time'] = pd.to_datetime(df['Created Time'])"
   ]
  },
  {
   "cell_type": "code",
   "execution_count": 22,
   "id": "19ad41df-2b28-4e45-927f-d6e180ce86a4",
   "metadata": {},
   "outputs": [],
   "source": [
    "df['Created Time'] = df['Created Time'].dt.strftime('%Y-%m-%d')"
   ]
  },
  {
   "cell_type": "code",
   "execution_count": 23,
   "id": "400c1dbb-0769-44a7-8408-6751078f96a7",
   "metadata": {},
   "outputs": [],
   "source": [
    "df['Exchange Venta'] = 'Binance - ' + df['Asset Type']"
   ]
  },
  {
   "cell_type": "code",
   "execution_count": 24,
   "id": "116e52a0-55be-40f1-8d49-da2cc921aeae",
   "metadata": {},
   "outputs": [],
   "source": [
    "df['Banco Recibo'] = 'Lemon' + df['Asset Type']"
   ]
  },
  {
   "cell_type": "code",
   "execution_count": 25,
   "id": "399c3da8-e765-4ccb-a253-331fc46b4d35",
   "metadata": {},
   "outputs": [],
   "source": [
    "column_order = ['Created Time', 'Exchange Venta', 'Total Price', 'Price', 'Quantity', 'Banco Recibo','Order Number']"
   ]
  },
  {
   "cell_type": "code",
   "execution_count": 26,
   "id": "87616892-6e87-4c6b-82ac-d8557b9d0821",
   "metadata": {},
   "outputs": [],
   "source": [
    "df = df[column_order]"
   ]
  },
  {
   "cell_type": "code",
   "execution_count": 27,
   "id": "e59e59ef-357a-44a2-8cec-632f63c1925f",
   "metadata": {},
   "outputs": [],
   "source": [
    "if isinstance(df['Created Time'].iloc[0], str):\n",
    "    df['Created Time'] = pd.to_datetime(df['Created Time'])\n",
    "new_rows = []\n",
    "last_date = None\n",
    "\n",
    "for index, row in df.iterrows():\n",
    "    current_date = row['Created Time'].date()  # Obtener la fecha (solo fecha, sin hora)\n",
    "    \n",
    "    if last_date is None or current_date != last_date:\n",
    "        new_rows.append(pd.Series([None] * len(df.columns), index=df.columns))  # Agregar fila en blanco\n",
    "        last_date = current_date\n",
    "    \n",
    "    new_rows.append(row)  # Agregar la fila actual\n",
    "    \n",
    "# Crear un nuevo DataFrame con las filas agregadas\n",
    "df_Nuevo = pd.DataFrame(new_rows)"
   ]
  },
  {
   "cell_type": "code",
   "execution_count": 28,
   "id": "66fc93b1-885f-413a-82de-d6d8e0343de3",
   "metadata": {},
   "outputs": [],
   "source": [
    "column_order = ['Created Time', 'Exchange Venta', 'Total Price', 'Price', 'Quantity', 'Banco Recibo','Order Number']"
   ]
  },
  {
   "cell_type": "code",
   "execution_count": 29,
   "id": "a74fb4f0-fc53-4c08-a931-a26f2849becd",
   "metadata": {},
   "outputs": [],
   "source": [
    "df_Nuevo = df_Nuevo[column_order]"
   ]
  },
  {
   "cell_type": "code",
   "execution_count": 30,
   "id": "4c7421a4-8583-4aec-bfac-156dc4cafab1",
   "metadata": {},
   "outputs": [],
   "source": [
    "df_Nuevo.to_excel('binanceventa_limpio.xlsx', index=False)"
   ]
  },
  {
   "cell_type": "code",
   "execution_count": null,
   "id": "2da637fe-d95e-4f76-9179-d9c13c03e91c",
   "metadata": {},
   "outputs": [],
   "source": []
  }
 ],
 "metadata": {
  "kernelspec": {
   "display_name": "Python 3 (ipykernel)",
   "language": "python",
   "name": "python3"
  },
  "language_info": {
   "codemirror_mode": {
    "name": "ipython",
    "version": 3
   },
   "file_extension": ".py",
   "mimetype": "text/x-python",
   "name": "python",
   "nbconvert_exporter": "python",
   "pygments_lexer": "ipython3",
   "version": "3.11.7"
  }
 },
 "nbformat": 4,
 "nbformat_minor": 5
}
