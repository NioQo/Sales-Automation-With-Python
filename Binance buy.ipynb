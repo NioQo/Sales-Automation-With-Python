{
 "cells": [
  {
   "cell_type": "markdown",
   "id": "0af64413-2b66-45a9-becb-56b3e74390df",
   "metadata": {},
   "source": [
    "compra Buena"
   ]
  },
  {
   "cell_type": "code",
   "execution_count": 7,
   "id": "24cc4da9-e9c8-438a-a9c6-513a175ba92d",
   "metadata": {},
   "outputs": [],
   "source": [
    "import pandas as pd\n",
    "import numpy as np\n",
    "file = 'D:\\\\Users\\\\OneDrive\\\\Escritorio\\\\DA & BA\\\\Work\\\\Tisagar\\\\Binance\\\\compra.csv'\n",
    "df = pd.read_csv(file)"
   ]
  },
  {
   "cell_type": "code",
   "execution_count": 8,
   "id": "86ff276e-86e1-42f8-bc3a-2f634d87f820",
   "metadata": {},
   "outputs": [],
   "source": [
    "columns_to_drop = [\n",
    "    'Order Type', 'Fiat Type', 'Exchange rate', 'Maker Fee', \n",
    "    'Maker Fee Rate', 'Taker Fee', 'Taker Fee Rate', \n",
    "    'Couterparty', 'Status'\n",
    "]\n",
    "df.drop(columns=columns_to_drop, inplace=True)\n",
    "df['Exchange Compra'] = 'Binance - ' + df['Asset Type']\n",
    "df['Banco Envio'] = 'Lemon'"
   ]
  },
  {
   "cell_type": "code",
   "execution_count": 9,
   "id": "76f6f569-9538-44a9-8a12-cde57f930ef1",
   "metadata": {},
   "outputs": [],
   "source": [
    "# Convertir 'Created Time' a formato de fecha\n",
    "df['Created Time'] = pd.to_datetime(df['Created Time'])\n",
    "df['Date'] = df['Created Time'].dt.date\n",
    "\n",
    "# Filtrar datos para cada tipo de activo relevante y calcular el promedio diario de \"Price\"\n",
    "asset_types = ['USDT', 'FDUSD', 'USDC', 'DAI']\n",
    "daily_avgs = {}\n",
    "\n",
    "for asset in asset_types:\n",
    "    asset_df = df[df['Asset Type'] == asset]\n",
    "    daily_avg = asset_df.groupby('Date')['Price'].mean().reset_index()\n",
    "    daily_avg.columns = ['Date', f'Avg_{asset}_Price']\n",
    "    daily_avgs[asset] = daily_avg\n",
    "\n",
    "# Unir los promedios diarios al DataFrame original\n",
    "for asset, avg_df in daily_avgs.items():\n",
    "    df = pd.merge(df, avg_df, on='Date', how='left')\n",
    "\n",
    "# Crear una columna para el promedio diario combinado\n",
    "df['Avg_Daily_Price'] = df['Avg_USDT_Price']\n",
    "\n",
    "# Usar los promedios de FDUSD, USDC y DAI si no hay promedio de USDT\n",
    "for asset in asset_types[1:]:\n",
    "    df['Avg_Daily_Price'].fillna(df[f'Avg_{asset}_Price'], inplace=True)\n",
    "\n",
    "# Filtrar los tipos de activos que deben ser actualizados\n",
    "assets_to_update = ['BTC', 'ETH', 'BNB']\n",
    "\n",
    "# Actualizar \"Price\" y \"Quantity\" para \"Asset Type\" = BTC, ETH o BNB\n",
    "df.loc[df['Asset Type'].isin(assets_to_update), 'Price'] = df['Avg_Daily_Price']\n",
    "df.loc[df['Asset Type'].isin(assets_to_update), 'Quantity'] = df['Total Price'] / df['Price']"
   ]
  },
  {
   "cell_type": "code",
   "execution_count": 10,
   "id": "d8a26efb-0f63-47ed-b559-850aa4eba3e2",
   "metadata": {},
   "outputs": [],
   "source": [
    "column_order = ['Created Time','Exchange Compra', 'Total Price', 'Price', 'Quantity', 'Banco Envio', 'Order Number']\n",
    "df = df[column_order]"
   ]
  },
  {
   "cell_type": "code",
   "execution_count": 11,
   "id": "6ae566c3-8a71-4d4e-acf0-5c8fdb676753",
   "metadata": {},
   "outputs": [],
   "source": [
    "if isinstance(df['Created Time'].iloc[0], str):\n",
    "    df['Created Time'] = pd.to_datetime(df['Created Time'])\n",
    "new_rows = []\n",
    "last_date = None\n",
    "\n",
    "for index, row in df.iterrows():\n",
    "    current_date = row['Created Time'].date()  # Obtener la fecha (solo fecha, sin hora)\n",
    "    \n",
    "    if last_date is None or current_date != last_date:\n",
    "        new_rows.append(pd.Series([None] * len(df.columns), index=df.columns))  # Agregar fila en blanco\n",
    "        last_date = current_date\n",
    "    \n",
    "    new_rows.append(row)  # Agregar la fila actual\n",
    "    \n",
    "# Crear un nuevo DataFrame con las filas agregadas\n",
    "df_n = pd.DataFrame(new_rows)"
   ]
  },
  {
   "cell_type": "code",
   "execution_count": 12,
   "id": "b0922e2a-3526-48fd-9b00-3b4540e53427",
   "metadata": {},
   "outputs": [],
   "source": [
    "df_n.to_excel('BinanceCompra_limpio.xlsx', index=False)"
   ]
  }
 ],
 "metadata": {
  "kernelspec": {
   "display_name": "Python 3 (ipykernel)",
   "language": "python",
   "name": "python3"
  },
  "language_info": {
   "codemirror_mode": {
    "name": "ipython",
    "version": 3
   },
   "file_extension": ".py",
   "mimetype": "text/x-python",
   "name": "python",
   "nbconvert_exporter": "python",
   "pygments_lexer": "ipython3",
   "version": "3.11.7"
  }
 },
 "nbformat": 4,
 "nbformat_minor": 5
}
