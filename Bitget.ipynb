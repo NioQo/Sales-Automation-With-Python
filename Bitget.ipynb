{
 "cells": [
  {
   "cell_type": "code",
   "execution_count": 12,
   "id": "a75c5e07-20f6-4126-b430-86b931619bb0",
   "metadata": {},
   "outputs": [],
   "source": [
    "import pandas as pd\n",
    "\n",
    "# Ruta al archivo CSV original\n",
    "ruta = 'D:\\\\Users\\\\OneDrive\\\\Escritorio\\\\DA & BA\\\\Work\\\\Tisagar\\\\Bitget\\\\Bitget 1er semana julio.csv'\n",
    "\n",
    "# Leer el archivo y limpiar las tabulaciones\n",
    "with open(ruta, 'r', encoding='utf-8') as file:\n",
    "    lines = file.readlines()\n",
    "\n",
    "# Eliminar las tabulaciones\n",
    "cleaned_lines = [line.replace('\\t', '') for line in lines]\n",
    "\n",
    "# Escribir las líneas limpias a un nuevo archivo temporal\n",
    "ruta_limpia = 'D:\\\\Users\\\\OneDrive\\\\Escritorio\\\\DA & BA\\\\Work\\\\Tisagar\\\\Bitget\\\\Bitget_1er_semana_julio_limpio.csv'\n",
    "with open(ruta_limpia, 'w', encoding='utf-8') as file:\n",
    "    file.writelines(cleaned_lines)\n",
    "\n",
    "# Leer el archivo limpio con Pandas sin usar ninguna columna como índice\n",
    "df = pd.read_csv(ruta_limpia, delimiter=',', header=0, index_col=False, dtype=str)\n",
    "\n",
    "# Renombrar las columnas\n",
    "columnas_correctas = [\n",
    "    \"Número de orden\", \"Fecha de creación\", \"Tipo de orden\", \"Cripto\", \n",
    "    \"Fiat\", \"Precio total\", \"Precio\", \"Monto\", \"Contraparte\", \"Estado\"\n",
    "]\n",
    "df.columns = columnas_correctas\n"
   ]
  },
  {
   "cell_type": "code",
   "execution_count": 13,
   "id": "178f1f15-fa14-440d-b172-1f8b97193d2f",
   "metadata": {},
   "outputs": [],
   "source": [
    "columnas_a_eliminar = ['Estado','Contraparte']\n",
    "df = df.drop(columns=columnas_a_eliminar)"
   ]
  },
  {
   "cell_type": "code",
   "execution_count": 14,
   "id": "0639e27c-7c2b-4c89-9ac0-48d25466f1fe",
   "metadata": {},
   "outputs": [],
   "source": [
    "df['Fecha de creación'] = pd.to_datetime(df['Fecha de creación'])"
   ]
  },
  {
   "cell_type": "code",
   "execution_count": 15,
   "id": "2cc8e747-d4f0-4ec8-ae47-36aa8783ce05",
   "metadata": {},
   "outputs": [],
   "source": [
    "df_compra = df[df['Tipo de orden'] == 'Comprar']\n",
    "df_venta = df[df['Tipo de orden'] == 'Vender']"
   ]
  },
  {
   "cell_type": "code",
   "execution_count": 16,
   "id": "85177888-337d-4ca1-ba8c-89a8952e3be9",
   "metadata": {},
   "outputs": [],
   "source": [
    "df_c = df_compra.sort_values(by='Fecha de creación')\n",
    "df_v = df_venta.sort_values(by='Fecha de creación')"
   ]
  },
  {
   "cell_type": "code",
   "execution_count": 17,
   "id": "85876633-4770-4175-9ea7-93527293257d",
   "metadata": {},
   "outputs": [],
   "source": [
    "df_c['Exchange compra'] = 'Bitget - Usdt'\n",
    "df_c['Banco envio'] = 'Lemon'\n",
    "\n",
    "df_v['Exchange Venta'] = 'Bitget - Usdt'\n",
    "df_v['Banco recibo'] = 'Lemon'"
   ]
  },
  {
   "cell_type": "code",
   "execution_count": 18,
   "id": "feaef2df-f2b0-48f4-add4-cb5934a65e25",
   "metadata": {},
   "outputs": [],
   "source": [
    "columnas_ventas = ['Fecha de creación', 'Exchange Venta', 'Precio total', 'Precio', 'Monto', 'Banco recibo', 'Número de orden','Tipo de orden']\n",
    "columnas_compra = ['Fecha de creación','Exchange compra', 'Precio total', 'Precio', 'Monto', 'Banco envio', 'Número de orden' ,'Tipo de orden']"
   ]
  },
  {
   "cell_type": "code",
   "execution_count": 19,
   "id": "8f62598c-57e9-4bed-be4d-cdfb9db25cb0",
   "metadata": {},
   "outputs": [],
   "source": [
    "df_v = df_v[columnas_ventas]\n",
    "df_c = df_c[columnas_compra]"
   ]
  },
  {
   "cell_type": "code",
   "execution_count": 20,
   "id": "f4a515a5-321b-4dd2-b27e-aef221fc4084",
   "metadata": {},
   "outputs": [],
   "source": [
    "df_v.to_excel('Bitget Ventas.xlsx', index=False)"
   ]
  },
  {
   "cell_type": "code",
   "execution_count": 21,
   "id": "aa505ab4-2c41-4058-97e9-577a3d350df7",
   "metadata": {},
   "outputs": [],
   "source": [
    "df_c.to_excel('Bitget Compras.xlsx', index=False)"
   ]
  },
  {
   "cell_type": "code",
   "execution_count": 22,
   "id": "605dff2b-a7d1-4d10-a0d5-b82bdf82e2e4",
   "metadata": {},
   "outputs": [
    {
     "data": {
      "text/html": [
       "<div>\n",
       "<style scoped>\n",
       "    .dataframe tbody tr th:only-of-type {\n",
       "        vertical-align: middle;\n",
       "    }\n",
       "\n",
       "    .dataframe tbody tr th {\n",
       "        vertical-align: top;\n",
       "    }\n",
       "\n",
       "    .dataframe thead th {\n",
       "        text-align: right;\n",
       "    }\n",
       "</style>\n",
       "<table border=\"1\" class=\"dataframe\">\n",
       "  <thead>\n",
       "    <tr style=\"text-align: right;\">\n",
       "      <th></th>\n",
       "      <th>Fecha de creación</th>\n",
       "      <th>Exchange compra</th>\n",
       "      <th>Precio total</th>\n",
       "      <th>Precio</th>\n",
       "      <th>Monto</th>\n",
       "      <th>Banco envio</th>\n",
       "      <th>Número de orden</th>\n",
       "      <th>Tipo de orden</th>\n",
       "    </tr>\n",
       "  </thead>\n",
       "  <tbody>\n",
       "    <tr>\n",
       "      <th>7</th>\n",
       "      <td>2024-07-12 10:02:25</td>\n",
       "      <td>Bitget - Usdt</td>\n",
       "      <td>190000</td>\n",
       "      <td>1433.05</td>\n",
       "      <td>132.58</td>\n",
       "      <td>Lemon</td>\n",
       "      <td>1195642659789131777</td>\n",
       "      <td>Comprar</td>\n",
       "    </tr>\n",
       "    <tr>\n",
       "      <th>6</th>\n",
       "      <td>2024-07-12 10:52:37</td>\n",
       "      <td>Bitget - Usdt</td>\n",
       "      <td>7697.23</td>\n",
       "      <td>1436.05</td>\n",
       "      <td>5.36</td>\n",
       "      <td>Lemon</td>\n",
       "      <td>1195655296606625793</td>\n",
       "      <td>Comprar</td>\n",
       "    </tr>\n",
       "    <tr>\n",
       "      <th>5</th>\n",
       "      <td>2024-07-12 11:40:27</td>\n",
       "      <td>Bitget - Usdt</td>\n",
       "      <td>133195.34</td>\n",
       "      <td>1438.55</td>\n",
       "      <td>92.59</td>\n",
       "      <td>Lemon</td>\n",
       "      <td>1195667330718756865</td>\n",
       "      <td>Comprar</td>\n",
       "    </tr>\n",
       "    <tr>\n",
       "      <th>4</th>\n",
       "      <td>2024-07-12 11:54:30</td>\n",
       "      <td>Bitget - Usdt</td>\n",
       "      <td>185895.45</td>\n",
       "      <td>1441.05</td>\n",
       "      <td>129</td>\n",
       "      <td>Lemon</td>\n",
       "      <td>1195670868153163777</td>\n",
       "      <td>Comprar</td>\n",
       "    </tr>\n",
       "    <tr>\n",
       "      <th>3</th>\n",
       "      <td>2024-07-12 12:12:56</td>\n",
       "      <td>Bitget - Usdt</td>\n",
       "      <td>240000</td>\n",
       "      <td>1442.05</td>\n",
       "      <td>166.43</td>\n",
       "      <td>Lemon</td>\n",
       "      <td>1195675505903853569</td>\n",
       "      <td>Comprar</td>\n",
       "    </tr>\n",
       "  </tbody>\n",
       "</table>\n",
       "</div>"
      ],
      "text/plain": [
       "    Fecha de creación Exchange compra Precio total   Precio   Monto  \\\n",
       "7 2024-07-12 10:02:25   Bitget - Usdt       190000  1433.05  132.58   \n",
       "6 2024-07-12 10:52:37   Bitget - Usdt      7697.23  1436.05    5.36   \n",
       "5 2024-07-12 11:40:27   Bitget - Usdt    133195.34  1438.55   92.59   \n",
       "4 2024-07-12 11:54:30   Bitget - Usdt    185895.45  1441.05     129   \n",
       "3 2024-07-12 12:12:56   Bitget - Usdt       240000  1442.05  166.43   \n",
       "\n",
       "  Banco envio      Número de orden Tipo de orden  \n",
       "7       Lemon  1195642659789131777       Comprar  \n",
       "6       Lemon  1195655296606625793       Comprar  \n",
       "5       Lemon  1195667330718756865       Comprar  \n",
       "4       Lemon  1195670868153163777       Comprar  \n",
       "3       Lemon  1195675505903853569       Comprar  "
      ]
     },
     "execution_count": 22,
     "metadata": {},
     "output_type": "execute_result"
    }
   ],
   "source": [
    "df_c.head()"
   ]
  },
  {
   "cell_type": "code",
   "execution_count": null,
   "id": "ba772bf5-0a70-4241-b60f-b08070b6b85c",
   "metadata": {},
   "outputs": [],
   "source": []
  }
 ],
 "metadata": {
  "kernelspec": {
   "display_name": "Python 3 (ipykernel)",
   "language": "python",
   "name": "python3"
  },
  "language_info": {
   "codemirror_mode": {
    "name": "ipython",
    "version": 3
   },
   "file_extension": ".py",
   "mimetype": "text/x-python",
   "name": "python",
   "nbconvert_exporter": "python",
   "pygments_lexer": "ipython3",
   "version": "3.11.7"
  }
 },
 "nbformat": 4,
 "nbformat_minor": 5
}
