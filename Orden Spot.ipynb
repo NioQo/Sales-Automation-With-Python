{
 "cells": [
  {
   "cell_type": "markdown",
   "id": "410ac5b2-9007-4eae-96b8-cad700ebe9be",
   "metadata": {},
   "source": [
    "Ordenes SPOT"
   ]
  },
  {
   "cell_type": "code",
   "execution_count": 11,
   "id": "a1fa73bc-969d-4f9d-afca-8131585dcd1a",
   "metadata": {},
   "outputs": [],
   "source": [
    "import pandas as pd"
   ]
  },
  {
   "cell_type": "code",
   "execution_count": 12,
   "id": "e67d4fb2-a69d-4c22-9bcc-bd71a8a04855",
   "metadata": {},
   "outputs": [
    {
     "name": "stderr",
     "output_type": "stream",
     "text": [
      "C:\\Users\\cualq\\anaconda3\\Lib\\site-packages\\openpyxl\\styles\\stylesheet.py:226: UserWarning: Workbook contains no default style, apply openpyxl's default\n",
      "  warn(\"Workbook contains no default style, apply openpyxl's default\")\n"
     ]
    }
   ],
   "source": [
    "ruta = 'D:\\\\Users\\\\OneDrive\\\\Escritorio\\\\DA & BA\\\\Work\\\\Tisagar\\\\Binance spot.xlsx'\n",
    "df = pd.read_excel(ruta)"
   ]
  },
  {
   "cell_type": "code",
   "execution_count": 13,
   "id": "30400ad9-0936-43af-a087-0cdc5c05c1dd",
   "metadata": {},
   "outputs": [],
   "source": [
    "df['Exchange Compra'] = 'Binance Spot - Usdt '\n",
    "df['Banco Envio'] = 'Lemon'\n",
    "df['Nro de orden'] = '- - -'"
   ]
  },
  {
   "cell_type": "code",
   "execution_count": 14,
   "id": "71421d41-e106-4155-93e2-7c408748017d",
   "metadata": {},
   "outputs": [],
   "source": [
    "df['Date(UTC)'] = pd.to_datetime(df['Date(UTC)'])"
   ]
  },
  {
   "cell_type": "code",
   "execution_count": 15,
   "id": "ad810345-e9b0-4875-b378-b603c45753d0",
   "metadata": {},
   "outputs": [],
   "source": [
    "columnas_compra = ['Date(UTC)','Exchange Compra', 'Total', 'Price', 'Amount', 'Banco Envio', 'Nro de orden']"
   ]
  },
  {
   "cell_type": "code",
   "execution_count": 16,
   "id": "3a397701-451f-4f9b-b0f4-fe95abc2cd0a",
   "metadata": {},
   "outputs": [],
   "source": [
    "df = df[columnas_compra]"
   ]
  },
  {
   "cell_type": "code",
   "execution_count": 17,
   "id": "a1f125db-c0bd-48aa-a5c7-479938788527",
   "metadata": {},
   "outputs": [],
   "source": [
    "# Agregar filas en blanco al cambiar de día\n",
    "new_rows_v = []\n",
    "last_date = None\n",
    "\n",
    "for index, row in df.iterrows():\n",
    "    current_date = row['Date(UTC)'].date()  # Obtener la fecha (solo fecha, sin hora)\n",
    "    \n",
    "    if last_date is None or current_date != last_date:\n",
    "        new_rows_v.append(pd.Series([None] * len(df.columns), index=df.columns))  # Agregar fila en blanco\n",
    "        last_date = current_date\n",
    "    \n",
    "    new_rows_v.append(row)  # Agregar la fila actual\n",
    "    \n",
    "# Crear un nuevo DataFrame con las filas agregadas\n",
    "df_n = pd.DataFrame(new_rows_v)"
   ]
  },
  {
   "cell_type": "code",
   "execution_count": 18,
   "id": "df4bc8b1-facc-4cf5-bf79-099f7781d22b",
   "metadata": {},
   "outputs": [],
   "source": [
    "df_n.to_excel('BinanceSpot.xlsx', index=False)"
   ]
  },
  {
   "cell_type": "code",
   "execution_count": null,
   "id": "1dce291f-5bfb-46c0-8b54-8dbaca259a91",
   "metadata": {},
   "outputs": [],
   "source": []
  }
 ],
 "metadata": {
  "kernelspec": {
   "display_name": "Python 3 (ipykernel)",
   "language": "python",
   "name": "python3"
  },
  "language_info": {
   "codemirror_mode": {
    "name": "ipython",
    "version": 3
   },
   "file_extension": ".py",
   "mimetype": "text/x-python",
   "name": "python",
   "nbconvert_exporter": "python",
   "pygments_lexer": "ipython3",
   "version": "3.11.7"
  }
 },
 "nbformat": 4,
 "nbformat_minor": 5
}
