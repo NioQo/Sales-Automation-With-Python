{
 "cells": [
  {
   "cell_type": "code",
   "execution_count": 16,
   "id": "c5a269ec-d15a-4f12-827f-493529db8852",
   "metadata": {},
   "outputs": [],
   "source": [
    "import pandas as pd\n",
    "ruta = 'D:\\\\Users\\\\OneDrive\\\\Escritorio\\\\DA & BA\\\\Work\\\\Tisagar\\\\Bybit\\\\Bybit 1er semana julio.xlsx'\n",
    "df = pd.read_excel(ruta, dtype=str)"
   ]
  },
  {
   "cell_type": "code",
   "execution_count": 17,
   "id": "482670d1-89cd-48af-86a9-2baa3c132b07",
   "metadata": {},
   "outputs": [],
   "source": [
    "columnas_a_eliminar = ['p2p-convert', 'Currency', 'Currency.1', 'Cryptocurrency', 'Transaction Fees', 'Cryptocurrency.1', 'Counterparty', 'Status']"
   ]
  },
  {
   "cell_type": "code",
   "execution_count": 18,
   "id": "48404b31-fe93-4cc6-a22b-fa2749d7b8c4",
   "metadata": {},
   "outputs": [],
   "source": [
    "df = df.drop(columns=columnas_a_eliminar)"
   ]
  },
  {
   "cell_type": "code",
   "execution_count": 19,
   "id": "a3715334-7b91-4b2c-bd9a-9aac629da2ca",
   "metadata": {},
   "outputs": [],
   "source": [
    "df['Time'] = pd.to_datetime(df['Time'])"
   ]
  },
  {
   "cell_type": "code",
   "execution_count": 20,
   "id": "89c2dc31-acc1-4172-aa85-6d96165a9ca4",
   "metadata": {},
   "outputs": [],
   "source": [
    "df_compra = df[df['Type'] == 'BUY']\n",
    "df_venta = df[df['Type'] == 'SELL']"
   ]
  },
  {
   "cell_type": "code",
   "execution_count": 21,
   "id": "5d8e2847-9d1c-4e7d-af4f-3501e9e4a8d5",
   "metadata": {},
   "outputs": [],
   "source": [
    "df_c = df_compra.sort_values(by='Time')\n",
    "df_v = df_venta.sort_values(by='Time')"
   ]
  },
  {
   "cell_type": "code",
   "execution_count": 22,
   "id": "09ed80c1-4d68-4c8c-90aa-6180b5443bdc",
   "metadata": {},
   "outputs": [],
   "source": [
    "df_c['Exchange compra'] = 'Bybit - Usdt'\n",
    "df_c['Banco envio'] = 'Lemon'\n",
    "\n",
    "df_v['Exchange Venta'] = 'Bybit - Usdt'\n",
    "df_v['Banco recibo'] = 'Lemon'"
   ]
  },
  {
   "cell_type": "code",
   "execution_count": 23,
   "id": "a0cf30d4-fb12-4320-b3a3-4884aa3bae43",
   "metadata": {},
   "outputs": [],
   "source": [
    "columnas_ventas = ['Time', 'Exchange Venta', 'Fiat Amount', 'Price', 'Coin Amount', 'Banco recibo', 'Order No.','Type']\n",
    "columnas_compra = ['Time','Exchange compra', 'Fiat Amount', 'Price', 'Coin Amount', 'Banco envio', 'Order No.', 'Price','Type']"
   ]
  },
  {
   "cell_type": "code",
   "execution_count": 24,
   "id": "ee9b4e85-d0dd-43ad-9c54-12c3ee54b834",
   "metadata": {},
   "outputs": [],
   "source": [
    "df_v = df_v[columnas_ventas]"
   ]
  },
  {
   "cell_type": "code",
   "execution_count": 25,
   "id": "65dc3409-7d51-4908-9faf-391197bd5060",
   "metadata": {},
   "outputs": [],
   "source": [
    "df_c = df_c[columnas_compra]"
   ]
  },
  {
   "cell_type": "code",
   "execution_count": 26,
   "id": "3e5496d3-1cf1-4c98-8839-499eff63f8ad",
   "metadata": {},
   "outputs": [],
   "source": [
    "df_v.to_excel('Bybit Ventas.xlsx', index=False)"
   ]
  },
  {
   "cell_type": "code",
   "execution_count": 27,
   "id": "307cf5a0-50fa-4000-8997-1874f9e36f8d",
   "metadata": {},
   "outputs": [],
   "source": [
    "df_c.to_excel('Bybit Compras.xlsx', index=False)"
   ]
  },
  {
   "cell_type": "code",
   "execution_count": null,
   "id": "b1b6e780-0480-4677-baab-53aca6a8f1ad",
   "metadata": {},
   "outputs": [],
   "source": []
  }
 ],
 "metadata": {
  "kernelspec": {
   "display_name": "Python 3 (ipykernel)",
   "language": "python",
   "name": "python3"
  },
  "language_info": {
   "codemirror_mode": {
    "name": "ipython",
    "version": 3
   },
   "file_extension": ".py",
   "mimetype": "text/x-python",
   "name": "python",
   "nbconvert_exporter": "python",
   "pygments_lexer": "ipython3",
   "version": "3.11.7"
  }
 },
 "nbformat": 4,
 "nbformat_minor": 5
}
