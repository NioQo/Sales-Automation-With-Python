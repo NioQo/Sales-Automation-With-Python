{
 "cells": [
  {
   "cell_type": "markdown",
   "id": "41094c88-b514-46cc-9038-04c06cac07b3",
   "metadata": {},
   "source": [
    "OKX"
   ]
  },
  {
   "cell_type": "code",
   "execution_count": 13,
   "id": "a270294b-8c44-42c0-9a59-c2c528342613",
   "metadata": {},
   "outputs": [],
   "source": [
    "import pandas as pd"
   ]
  },
  {
   "cell_type": "code",
   "execution_count": 14,
   "id": "ad77b89c-5e97-4002-935f-796ca870bf97",
   "metadata": {},
   "outputs": [],
   "source": [
    "ruta = 'D:\\\\Users\\\\OneDrive\\\\Escritorio\\\\DA & BA\\\\Work\\\\Tisagar\\\\OKX\\\\Okx 1er semana julio.csv'\n",
    "df = pd.read_csv(ruta, dtype=str)"
   ]
  },
  {
   "cell_type": "code",
   "execution_count": 15,
   "id": "f117f34c-1e32-4c69-b570-897cfdeb02a2",
   "metadata": {},
   "outputs": [],
   "source": [
    "columnas_a_eliminar = ['Estado', 'Contraparte', 'Fecha actualizada', 'Fuente de orden']\n",
    "df = df.drop(columns=columnas_a_eliminar)"
   ]
  },
  {
   "cell_type": "code",
   "execution_count": 16,
   "id": "b78b7d0f-ee66-4b10-9ed6-ddff6deed7af",
   "metadata": {},
   "outputs": [],
   "source": [
    "df['Fecha de creación'] = pd.to_datetime(df['Fecha de creación'])"
   ]
  },
  {
   "cell_type": "code",
   "execution_count": 17,
   "id": "fbdc5e5f-31b7-492b-8fec-0878b921dbad",
   "metadata": {},
   "outputs": [],
   "source": [
    "df_compra = df[df['Tipo de orden'] == 'Comprar']\n",
    "df_venta = df[df['Tipo de orden'] == 'Vender']"
   ]
  },
  {
   "cell_type": "code",
   "execution_count": 18,
   "id": "d40ab2f3-dfdb-4012-97b5-8394b76e5bd7",
   "metadata": {},
   "outputs": [],
   "source": [
    "df_c = df_compra.sort_values(by='Fecha de creación')\n",
    "df_v = df_venta.sort_values(by='Fecha de creación')"
   ]
  },
  {
   "cell_type": "code",
   "execution_count": 19,
   "id": "e2d91220-5208-466b-bc6e-046a5f242b32",
   "metadata": {},
   "outputs": [],
   "source": [
    "df_c['Exchange compra'] = 'OKX - Usdt'\n",
    "df_v['Exchange Venta'] = 'OKX - Usdt'"
   ]
  },
  {
   "cell_type": "code",
   "execution_count": 20,
   "id": "261e60d6-2da7-4748-b7ad-f4d2b8a23a2d",
   "metadata": {},
   "outputs": [],
   "source": [
    "columnas_ventas = ['Fecha de creación', 'Exchange Venta', 'Monto', 'Precio', 'Volumen', 'Método de pago', 'N.º de orden','Tipo de orden']\n",
    "columnas_compra = ['Fecha de creación','Exchange compra', 'Monto', 'Precio', 'Volumen', 'Método de pago', 'N.º de orden','Tipo de orden']"
   ]
  },
  {
   "cell_type": "code",
   "execution_count": 21,
   "id": "8464e933-a5f4-45b1-9479-7b622d6f9a91",
   "metadata": {},
   "outputs": [],
   "source": [
    "df_v = df_v[columnas_ventas]\n",
    "df_c = df_c[columnas_compra]"
   ]
  },
  {
   "cell_type": "code",
   "execution_count": 22,
   "id": "cb623d3f-6eb6-43b1-afb1-d5bd51e4c88d",
   "metadata": {},
   "outputs": [],
   "source": [
    "df_v.to_excel('OKX Ventas.xlsx', index=False)"
   ]
  },
  {
   "cell_type": "code",
   "execution_count": 23,
   "id": "d27b5b6a-f76a-4a29-9689-755fbd3988cb",
   "metadata": {},
   "outputs": [],
   "source": [
    "df_c.to_excel('OKX Compras.xlsx', index=False)"
   ]
  },
  {
   "cell_type": "code",
   "execution_count": 24,
   "id": "d4dac803-e0b2-453d-bcf5-18f5deb20fae",
   "metadata": {},
   "outputs": [
    {
     "data": {
      "text/html": [
       "<div>\n",
       "<style scoped>\n",
       "    .dataframe tbody tr th:only-of-type {\n",
       "        vertical-align: middle;\n",
       "    }\n",
       "\n",
       "    .dataframe tbody tr th {\n",
       "        vertical-align: top;\n",
       "    }\n",
       "\n",
       "    .dataframe thead th {\n",
       "        text-align: right;\n",
       "    }\n",
       "</style>\n",
       "<table border=\"1\" class=\"dataframe\">\n",
       "  <thead>\n",
       "    <tr style=\"text-align: right;\">\n",
       "      <th></th>\n",
       "      <th>Fecha de creación</th>\n",
       "      <th>Exchange compra</th>\n",
       "      <th>Monto</th>\n",
       "      <th>Precio</th>\n",
       "      <th>Volumen</th>\n",
       "      <th>Método de pago</th>\n",
       "      <th>N.º de orden</th>\n",
       "      <th>Tipo de orden</th>\n",
       "    </tr>\n",
       "  </thead>\n",
       "  <tbody>\n",
       "    <tr>\n",
       "      <th>608</th>\n",
       "      <td>2024-07-08 09:42:18</td>\n",
       "      <td>OKX - Usdt</td>\n",
       "      <td>16082.58</td>\n",
       "      <td>1407.05</td>\n",
       "      <td>11.43</td>\n",
       "      <td>Bank Transfer</td>\n",
       "      <td>240708204217102</td>\n",
       "      <td>Comprar</td>\n",
       "    </tr>\n",
       "    <tr>\n",
       "      <th>607</th>\n",
       "      <td>2024-07-08 10:34:41</td>\n",
       "      <td>OKX - Usdt</td>\n",
       "      <td>16029.29</td>\n",
       "      <td>1408.55</td>\n",
       "      <td>11.38</td>\n",
       "      <td>Bank Transfer</td>\n",
       "      <td>240708213440223</td>\n",
       "      <td>Comprar</td>\n",
       "    </tr>\n",
       "    <tr>\n",
       "      <th>606</th>\n",
       "      <td>2024-07-08 10:40:27</td>\n",
       "      <td>OKX - Usdt</td>\n",
       "      <td>16085.64</td>\n",
       "      <td>1408.55</td>\n",
       "      <td>11.42</td>\n",
       "      <td>Mercadopago</td>\n",
       "      <td>240708214026985</td>\n",
       "      <td>Comprar</td>\n",
       "    </tr>\n",
       "    <tr>\n",
       "      <th>605</th>\n",
       "      <td>2024-07-08 10:52:05</td>\n",
       "      <td>OKX - Usdt</td>\n",
       "      <td>7837.45</td>\n",
       "      <td>1402.05</td>\n",
       "      <td>5.59</td>\n",
       "      <td>Mercadopago</td>\n",
       "      <td>240708215204498</td>\n",
       "      <td>Comprar</td>\n",
       "    </tr>\n",
       "    <tr>\n",
       "      <th>604</th>\n",
       "      <td>2024-07-08 10:52:33</td>\n",
       "      <td>OKX - Usdt</td>\n",
       "      <td>8005.70</td>\n",
       "      <td>1402.05</td>\n",
       "      <td>5.71</td>\n",
       "      <td>Banco Brubank</td>\n",
       "      <td>240708215232313</td>\n",
       "      <td>Comprar</td>\n",
       "    </tr>\n",
       "  </tbody>\n",
       "</table>\n",
       "</div>"
      ],
      "text/plain": [
       "      Fecha de creación Exchange compra     Monto   Precio Volumen  \\\n",
       "608 2024-07-08 09:42:18      OKX - Usdt  16082.58  1407.05   11.43   \n",
       "607 2024-07-08 10:34:41      OKX - Usdt  16029.29  1408.55   11.38   \n",
       "606 2024-07-08 10:40:27      OKX - Usdt  16085.64  1408.55   11.42   \n",
       "605 2024-07-08 10:52:05      OKX - Usdt   7837.45  1402.05    5.59   \n",
       "604 2024-07-08 10:52:33      OKX - Usdt   8005.70  1402.05    5.71   \n",
       "\n",
       "    Método de pago     N.º de orden Tipo de orden  \n",
       "608  Bank Transfer  240708204217102       Comprar  \n",
       "607  Bank Transfer  240708213440223       Comprar  \n",
       "606    Mercadopago  240708214026985       Comprar  \n",
       "605    Mercadopago  240708215204498       Comprar  \n",
       "604  Banco Brubank  240708215232313       Comprar  "
      ]
     },
     "execution_count": 24,
     "metadata": {},
     "output_type": "execute_result"
    }
   ],
   "source": [
    "df_c.head()"
   ]
  },
  {
   "cell_type": "code",
   "execution_count": null,
   "id": "55f29031-4a06-464c-a1c7-c085a63d07f5",
   "metadata": {},
   "outputs": [],
   "source": []
  }
 ],
 "metadata": {
  "kernelspec": {
   "display_name": "Python 3 (ipykernel)",
   "language": "python",
   "name": "python3"
  },
  "language_info": {
   "codemirror_mode": {
    "name": "ipython",
    "version": 3
   },
   "file_extension": ".py",
   "mimetype": "text/x-python",
   "name": "python",
   "nbconvert_exporter": "python",
   "pygments_lexer": "ipython3",
   "version": "3.11.7"
  }
 },
 "nbformat": 4,
 "nbformat_minor": 5
}
