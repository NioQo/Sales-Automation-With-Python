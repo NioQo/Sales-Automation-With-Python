{
 "cells": [
  {
   "cell_type": "markdown",
   "id": "052244f9-4f4a-4fc6-bbf9-b4533c888e53",
   "metadata": {},
   "source": [
    "Nuevo Fiwind"
   ]
  },
  {
   "cell_type": "code",
   "execution_count": 10,
   "id": "3e67af33-9db5-455d-aabc-7b7131cfdf94",
   "metadata": {},
   "outputs": [],
   "source": [
    "import pandas as pd"
   ]
  },
  {
   "cell_type": "code",
   "execution_count": 11,
   "id": "0e5c7f0d-9926-403d-97be-78ddf06819ab",
   "metadata": {},
   "outputs": [],
   "source": [
    "df = pd.read_excel('D:\\\\Users\\\\OneDrive\\\\Escritorio\\\\DA & BA\\\\Work\\\\Tisagar\\\\Fiwind.xlsx')"
   ]
  },
  {
   "cell_type": "code",
   "execution_count": 12,
   "id": "a6e2d87c-b899-438a-a64d-c11a942c9faa",
   "metadata": {},
   "outputs": [],
   "source": [
    "df = df.dropna(subset=['Monto Origen'])\n",
    "df = df.drop(columns=['Tipo','Moneda Origen','Moneda','Precio'])\n",
    "df['Precio'] = df['Monto']/ df['Monto Origen']\n",
    "df['Exchange Venta'] = 'Fiwind - Usdt'\n",
    "df['Banco recibido'] = 'Lemon'\n",
    "df = df[['Fecha', 'Exchange Venta', 'Monto', 'Precio', 'Monto Origen', 'Banco recibido']]\n"
   ]
  },
  {
   "cell_type": "code",
   "execution_count": 13,
   "id": "483e4650-69a9-4e94-99de-6eebdd81063c",
   "metadata": {},
   "outputs": [],
   "source": [
    "# Convertir la columna de fecha y hora al formato YYYY-MM-DD HH:MM:SS\n",
    "df['Fecha'] = pd.to_datetime(df['Fecha'], format='%d/%m/%Y %H:%M:%S', errors='coerce')\n",
    "\n",
    "# Extraer solo la parte de la fecha en el formato YYYY/MM/DD\n",
    "df['Fecha'] = df['Fecha'].dt.strftime('%Y/%m/%d')"
   ]
  },
  {
   "cell_type": "code",
   "execution_count": 14,
   "id": "ef0285c9-e3ce-4f44-a15d-18a9bd7b6796",
   "metadata": {},
   "outputs": [],
   "source": [
    "df = df.sort_values(by='Fecha')"
   ]
  },
  {
   "cell_type": "code",
   "execution_count": 15,
   "id": "e5e7ee44-c939-4cb5-a140-b9fc98c0a520",
   "metadata": {},
   "outputs": [
    {
     "data": {
      "text/html": [
       "<div>\n",
       "<style scoped>\n",
       "    .dataframe tbody tr th:only-of-type {\n",
       "        vertical-align: middle;\n",
       "    }\n",
       "\n",
       "    .dataframe tbody tr th {\n",
       "        vertical-align: top;\n",
       "    }\n",
       "\n",
       "    .dataframe thead th {\n",
       "        text-align: right;\n",
       "    }\n",
       "</style>\n",
       "<table border=\"1\" class=\"dataframe\">\n",
       "  <thead>\n",
       "    <tr style=\"text-align: right;\">\n",
       "      <th></th>\n",
       "      <th>Fecha</th>\n",
       "      <th>Exchange Venta</th>\n",
       "      <th>Monto</th>\n",
       "      <th>Precio</th>\n",
       "      <th>Monto Origen</th>\n",
       "      <th>Banco recibido</th>\n",
       "    </tr>\n",
       "  </thead>\n",
       "  <tbody>\n",
       "    <tr>\n",
       "      <th>47</th>\n",
       "      <td>2024/07/15</td>\n",
       "      <td>Fiwind - Usdt</td>\n",
       "      <td>3256.15</td>\n",
       "      <td>0.000724</td>\n",
       "      <td>4500000.00</td>\n",
       "      <td>Lemon</td>\n",
       "    </tr>\n",
       "    <tr>\n",
       "      <th>49</th>\n",
       "      <td>2024/07/15</td>\n",
       "      <td>Fiwind - Usdt</td>\n",
       "      <td>1447.18</td>\n",
       "      <td>0.000724</td>\n",
       "      <td>2000000.00</td>\n",
       "      <td>Lemon</td>\n",
       "    </tr>\n",
       "    <tr>\n",
       "      <th>37</th>\n",
       "      <td>2024/07/16</td>\n",
       "      <td>Fiwind - Usdt</td>\n",
       "      <td>183.41</td>\n",
       "      <td>0.000765</td>\n",
       "      <td>239711.56</td>\n",
       "      <td>Lemon</td>\n",
       "    </tr>\n",
       "    <tr>\n",
       "      <th>41</th>\n",
       "      <td>2024/07/16</td>\n",
       "      <td>Fiwind - Usdt</td>\n",
       "      <td>1146.79</td>\n",
       "      <td>0.000765</td>\n",
       "      <td>1500000.00</td>\n",
       "      <td>Lemon</td>\n",
       "    </tr>\n",
       "    <tr>\n",
       "      <th>18</th>\n",
       "      <td>2024/07/22</td>\n",
       "      <td>Fiwind - Usdt</td>\n",
       "      <td>2250.92</td>\n",
       "      <td>0.000738</td>\n",
       "      <td>3050000.00</td>\n",
       "      <td>Lemon</td>\n",
       "    </tr>\n",
       "  </tbody>\n",
       "</table>\n",
       "</div>"
      ],
      "text/plain": [
       "         Fecha Exchange Venta    Monto    Precio  Monto Origen Banco recibido\n",
       "47  2024/07/15  Fiwind - Usdt  3256.15  0.000724    4500000.00          Lemon\n",
       "49  2024/07/15  Fiwind - Usdt  1447.18  0.000724    2000000.00          Lemon\n",
       "37  2024/07/16  Fiwind - Usdt   183.41  0.000765     239711.56          Lemon\n",
       "41  2024/07/16  Fiwind - Usdt  1146.79  0.000765    1500000.00          Lemon\n",
       "18  2024/07/22  Fiwind - Usdt  2250.92  0.000738    3050000.00          Lemon"
      ]
     },
     "execution_count": 15,
     "metadata": {},
     "output_type": "execute_result"
    }
   ],
   "source": [
    "df.head()"
   ]
  },
  {
   "cell_type": "code",
   "execution_count": 16,
   "id": "4df32528-9f6b-4e87-8d01-dc5661f87358",
   "metadata": {},
   "outputs": [],
   "source": [
    "df.to_excel('Fiwin Venta.xlsx', index=False)\n"
   ]
  },
  {
   "cell_type": "code",
   "execution_count": null,
   "id": "c3f5d2c4-14ba-4480-a94d-197739e7951f",
   "metadata": {},
   "outputs": [],
   "source": []
  }
 ],
 "metadata": {
  "kernelspec": {
   "display_name": "Python 3 (ipykernel)",
   "language": "python",
   "name": "python3"
  },
  "language_info": {
   "codemirror_mode": {
    "name": "ipython",
    "version": 3
   },
   "file_extension": ".py",
   "mimetype": "text/x-python",
   "name": "python",
   "nbconvert_exporter": "python",
   "pygments_lexer": "ipython3",
   "version": "3.11.7"
  }
 },
 "nbformat": 4,
 "nbformat_minor": 5
}
